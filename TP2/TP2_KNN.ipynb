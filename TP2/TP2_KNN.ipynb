{
  "cells": [
    {
      "cell_type": "code",
      "execution_count": 9,
      "id": "c35cd8b1-5f86-4f93-bcf1-7ec50f5a7791",
      "metadata": {
        "trusted": true
      },
      "outputs": [],
      "source": [
        "import pandas as pd\n",
        "from sklearn.preprocessing import StandardScaler\n",
        "from sklearn.model_selection import train_test_split\n",
        "from sklearn.neighbors import KNeighborsClassifier\n",
        "from sklearn.metrics import confusion_matrix\n",
        "\n",
        "df = pd.read_csv(\"iris.csv\")\n",
        "target = \"Species\"\n",
        "features = [\"SepalLengthCm\", \"SepalWidthCm\", \"PetalLengthCm\", \"PetalWidthCm\"]\n",
        "\n",
        "X = df[features]\n",
        "y = df[target]\n",
        "\n",
        "scaler = StandardScaler()"
      ]
    },
    {
      "cell_type": "code",
      "execution_count": 10,
      "id": "f1b4c0c1-7ab7-43ff-8e74-fd5de9c9de27",
      "metadata": {
        "trusted": true
      },
      "outputs": [],
      "source": [
        "\n",
        "X_scaled = scaler.fit_transform(X)\n",
        "X_train, X_test, y_train, y_test = train_test_split(X_scaled, y, test_size=0.2, random_state=0)"
      ]
    },
    {
      "cell_type": "code",
      "execution_count": 11,
      "id": "ac858a08-0dae-48ea-bb25-a2f9f62a8e34",
      "metadata": {
        "trusted": true
      },
      "outputs": [
        {
          "name": "stdout",
          "output_type": "stream",
          "text": [
            "137     Iris-virginica\n",
            "84     Iris-versicolor\n",
            "27         Iris-setosa\n",
            "127     Iris-virginica\n",
            "132     Iris-virginica\n",
            "            ...       \n",
            "9          Iris-setosa\n",
            "103     Iris-virginica\n",
            "67     Iris-versicolor\n",
            "117     Iris-virginica\n",
            "47         Iris-setosa\n",
            "Name: Species, Length: 120, dtype: object\n"
          ]
        }
      ],
      "source": [
        "model = KNeighborsClassifier(n_neighbors=3)\n",
        "model.fit(X_train, y_train)\n",
        "print(y_train)"
      ]
    },
    {
      "cell_type": "code",
      "execution_count": 12,
      "id": "4638500d-5372-4d26-9de2-931ddfe93b64",
      "metadata": {
        "trusted": true
      },
      "outputs": [
        {
          "data": {
            "text/plain": [
              "0.9666666666666667"
            ]
          },
          "execution_count": 12,
          "metadata": {},
          "output_type": "execute_result"
        }
      ],
      "source": [
        "model.score(X_train, y_train)"
      ]
    },
    {
      "cell_type": "code",
      "execution_count": 13,
      "id": "fe620fc8-0c1d-48f9-9c4f-cd68fec4c294",
      "metadata": {
        "trusted": true
      },
      "outputs": [
        {
          "data": {
            "text/plain": [
              "0.9666666666666667"
            ]
          },
          "execution_count": 13,
          "metadata": {},
          "output_type": "execute_result"
        }
      ],
      "source": [
        "model.score(X_test, y_test)"
      ]
    },
    {
      "cell_type": "code",
      "execution_count": 14,
      "id": "5427a114-233f-4966-a77a-b6c0c4ddfd38",
      "metadata": {
        "trusted": true
      },
      "outputs": [],
      "source": [
        "predict = model.predict(X_test)"
      ]
    },
    {
      "cell_type": "code",
      "execution_count": 15,
      "id": "cb05052c-840a-426f-8eae-5b85bbf44b01",
      "metadata": {
        "trusted": true
      },
      "outputs": [
        {
          "data": {
            "text/plain": [
              "array([[11,  0,  0],\n",
              "       [ 0, 13,  0],\n",
              "       [ 0,  1,  5]])"
            ]
          },
          "execution_count": 15,
          "metadata": {},
          "output_type": "execute_result"
        }
      ],
      "source": [
        "confusion_matrix(y_test, predict)"
      ]
    },
    {
      "cell_type": "code",
      "execution_count": 16,
      "id": "eccb2f03-639b-41f3-a0cc-1292d399b4b1",
      "metadata": {
        "trusted": true
      },
      "outputs": [],
      "source": [
        "### Exercice 2\n",
        "\n",
        "# Récuperation de la base de données\n",
        "df2 = pd.read_csv(\"auto-mpg.csv\")"
      ]
    },
    {
      "cell_type": "code",
      "execution_count": 17,
      "id": "80c5547e-5147-478a-8f2d-326bbef8fdc6",
      "metadata": {
        "trusted": true
      },
      "outputs": [
        {
          "name": "stdout",
          "output_type": "stream",
          "text": [
            "(392, 9)\n"
          ]
        }
      ],
      "source": [
        "print(df2.shape)"
      ]
    },
    {
      "cell_type": "code",
      "execution_count": 18,
      "id": "e92bdbff-6a0a-48f8-994b-bea9d8db4620",
      "metadata": {
        "trusted": true
      },
      "outputs": [],
      "source": [
        "features = [\"cylinders\", \"displacement\", \"horsepower\", \"weight\", \"acceleration\", \"year\", \"origin\"]\n",
        "target = \"mpg\"\n",
        "\n",
        "X2 = df2[features]\n",
        "y2 = df2[target]\n",
        "\n",
        "X2_scaled = scaler.fit_transform(X2)"
      ]
    },
    {
      "cell_type": "code",
      "execution_count": 19,
      "id": "321bc000-7da8-4604-8bc2-00c8776ce7cf",
      "metadata": {
        "trusted": true
      },
      "outputs": [],
      "source": [
        "X2_train, X2_test, y2_train, y2_test = train_test_split(X2_scaled, y2, test_size=0.2, random_state=42)"
      ]
    },
    {
      "cell_type": "code",
      "execution_count": 20,
      "id": "c068d36e-d348-445d-9c8a-51cce057ed3a",
      "metadata": {
        "trusted": true
      },
      "outputs": [
        {
          "data": {
            "text/plain": [
              "KNeighborsRegressor(n_neighbors=3)"
            ]
          },
          "execution_count": 20,
          "metadata": {},
          "output_type": "execute_result"
        }
      ],
      "source": [
        "from sklearn.neighbors import KNeighborsRegressor\n",
        "\n",
        "knn_regression = KNeighborsRegressor(n_neighbors=3)\n",
        "knn_regression.fit(X2_train, y2_train)"
      ]
    },
    {
      "cell_type": "code",
      "execution_count": 21,
      "id": "81b80dc9-ee42-442c-a7db-5d4252bd0ec9",
      "metadata": {
        "trusted": true
      },
      "outputs": [
        {
          "data": {
            "text/plain": [
              "0.9270958889805258"
            ]
          },
          "execution_count": 21,
          "metadata": {},
          "output_type": "execute_result"
        }
      ],
      "source": [
        "knn_regression.score(X2_train, y2_train)"
      ]
    },
    {
      "cell_type": "code",
      "execution_count": 22,
      "id": "3edcbb04-0de1-468b-abcc-cc7b1101b3eb",
      "metadata": {
        "trusted": true
      },
      "outputs": [
        {
          "data": {
            "text/plain": [
              "0.8599209050482889"
            ]
          },
          "execution_count": 22,
          "metadata": {},
          "output_type": "execute_result"
        }
      ],
      "source": [
        "knn_regression.score(X2_test, y2_test)"
      ]
    },
    {
      "cell_type": "code",
      "execution_count": 23,
      "id": "444a8c17-3f13-4c89-90e4-8454f665622c",
      "metadata": {
        "trusted": true
      },
      "outputs": [
        {
          "name": "stdout",
          "output_type": "stream",
          "text": [
            "[1.0, 0.9463938879237487, 0.9270958889805258, 0.9096333478032926, 0.9048033079041291, 0.9015023342452329, 0.8939265955123439, 0.8830698381489851, 0.8809900606502237]\n",
            "[0.8267573663542161, 0.8211152936100438, 0.8599209050482889, 0.8623318750222104, 0.8617825603398058, 0.8634512994551339, 0.8574103591193164, 0.8550501523877623, 0.8554316185252038]\n"
          ]
        }
      ],
      "source": [
        "from sklearn.metrics import mean_squared_error, mean_absolute_error\n",
        "\n",
        "score_test = []\n",
        "score_train = []\n",
        "for k in range (1, 10):\n",
        "    knn_regression = KNeighborsRegressor(n_neighbors=k)\n",
        "    knn_regression.fit(X2_train, y2_train)\n",
        "    score_train.append( knn_regression.score(X2_train, y2_train))\n",
        "    score_test.append(knn_regression.score(X2_test, y2_test))\n",
        "    \n",
        "print(score_train)\n",
        "print(score_test)"
      ]
    },
    {
      "cell_type": "code",
      "execution_count": 33,
      "id": "fa6e6b7a-971e-46fe-90b4-404bdae64e50",
      "metadata": {},
      "outputs": [
        {
          "data": {
            "image/png": "[encoded data removed]",
            "text/plain": [
              "<Figure size 432x288 with 1 Axes>"
            ]
          },
          "metadata": {
            "needs_background": "light"
          },
          "output_type": "display_data"
        }
      ],
      "source": [
        "import matplotlib.pyplot as plt\n",
        "\n",
        "plt.plot(range (1, 10),score_train,score_test)\n",
        "plt.legend([\"train\",\"test\"])\n",
        "plt.show()"
      ]
    }
  ],
  "metadata": {
    "kernelspec": {
      "display_name": "base",
      "language": "python",
      "name": "python3"
    },
    "language_info": {
      "codemirror_mode": {
        "name": "ipython",
        "version": 3
      },
      "file_extension": ".py",
      "mimetype": "text/x-python",
      "name": "python",
      "nbconvert_exporter": "python",
      "pygments_lexer": "ipython3",
      "version": "3.9.7"
    }
  },
  "nbformat": 4,
  "nbformat_minor": 5
}
